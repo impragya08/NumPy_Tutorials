{
 "cells": [
  {
   "attachments": {},
   "cell_type": "markdown",
   "metadata": {},
   "source": [
    "MY LEARNING ON NUMPY\n",
    "* Numpy is a multi diminesional array library.\n",
    "* Numpy can be used to store all kind of data like 1d,2d,3d arrays\n"
   ]
  },
  {
   "attachments": {},
   "cell_type": "markdown",
   "metadata": {},
   "source": [
    "## Why Numpy over Lists:\n",
    "* Lists are slow than numpy arrays:\n",
    "1-  because Numpy uses fixed types\n",
    "\n",
    "lets say we have 5 at an array index 1,0\n",
    "5->00000101\n",
    "### *In Numpy:*\n",
    "  -Int32=> 00000000 00000000 00000000 00000101 (*memory space of 4 bytes*)(by default)\n",
    "  -Int16=> 00000000 00000101 *or*\n",
    "  -Int08=> 00000101\n",
    "\n",
    "## *In Lists*\n",
    "  -uses built in int type in python\n",
    "  -int type built contains many information:\n",
    "    1> Size: of integer value\n",
    "    2> Reference Count: how many the integer is being specifically pointed at\n",
    "    3> Object Type\n",
    "    4> Object Value\n",
    "\n",
    "  -Hence Representation:\n",
    "     00000000 00000000 00000000 00000000 00000000 00000000 00000000 00000101 (*memory size 8 bytes*)\n",
    "\n",
    "\n",
    "2-Faster to read less bytes of memory\n",
    "3-In numpy array we dont have to do type checking each time\n",
    "4-numpy utilizes contigous memory allocation scheme\n",
    "   Benefit:\n",
    "    * *CPUs have SIMD(Single Instruction Multiple Data) Vector Processing Unit beacuse of this we can perform computation of all the values at one time*\n",
    "    * *Effective Cache Utilization*\n",
    "\n",
    "\n"
   ]
  },
  {
   "attachments": {},
   "cell_type": "markdown",
   "metadata": {},
   "source": [
    "## Application of Numpy-\n",
    "   * MATLAB Replacement\n",
    "   * Plotting\n",
    "   * Backend\n",
    "   * Machine Learning\n",
    "   "
   ]
  },
  {
   "cell_type": "code",
   "execution_count": 2,
   "metadata": {},
   "outputs": [],
   "source": [
    "import numpy as np"
   ]
  },
  {
   "attachments": {},
   "cell_type": "markdown",
   "metadata": {},
   "source": [
    "### The Basics"
   ]
  },
  {
   "cell_type": "code",
   "execution_count": 3,
   "metadata": {},
   "outputs": [
    {
     "name": "stdout",
     "output_type": "stream",
     "text": [
      "[1 2 3]\n",
      "[[1.3 4.3 2.2]\n",
      " [6.  7.6 5.6]]\n"
     ]
    }
   ],
   "source": [
    "#Integer array\n",
    "a=np.array([1,2,3], dtype='int16')\n",
    "print(a)\n",
    "\n",
    "#Float Array\n",
    "b=np.array([[1.3,4.3,2.2],[6.0,7.6,5.6]])\n",
    "print(b)"
   ]
  },
  {
   "cell_type": "code",
   "execution_count": 4,
   "metadata": {},
   "outputs": [
    {
     "data": {
      "text/plain": [
       "6"
      ]
     },
     "execution_count": 4,
     "metadata": {},
     "output_type": "execute_result"
    }
   ],
   "source": [
    "#Get Dimensions\n",
    "a.ndim\n",
    "\n",
    "#Get Shape\n",
    "b.shape\n",
    "\n",
    "#Get Type\n",
    "a.dtype\n",
    "\n",
    "#Get ItemSize\n",
    "a.itemsize\n",
    "\n",
    "#Get total size\n",
    "a.nbytes"
   ]
  },
  {
   "attachments": {},
   "cell_type": "markdown",
   "metadata": {},
   "source": [
    "## Acessing/Changing specific elements, rows, columns, etc"
   ]
  },
  {
   "cell_type": "code",
   "execution_count": 5,
   "metadata": {},
   "outputs": [
    {
     "name": "stdout",
     "output_type": "stream",
     "text": [
      "[[1 2 3 4 5 6]\n",
      " [8 9 1 2 3 4]]\n"
     ]
    }
   ],
   "source": [
    "a= np.array([[1,2,3,4,5,6],[8,9,1,2,3,4]])\n",
    "print(a)"
   ]
  },
  {
   "cell_type": "code",
   "execution_count": 6,
   "metadata": {},
   "outputs": [
    {
     "name": "stdout",
     "output_type": "stream",
     "text": [
      "4\n",
      "4\n"
     ]
    }
   ],
   "source": [
    "#Get a specific element [r,c]\n",
    "print(a[1,5])   # //4\n",
    "print(a[1,-1])  # //4"
   ]
  },
  {
   "cell_type": "code",
   "execution_count": 7,
   "metadata": {},
   "outputs": [
    {
     "name": "stdout",
     "output_type": "stream",
     "text": [
      "[1 2 3 4 5 6]\n",
      "[3 1]\n"
     ]
    }
   ],
   "source": [
    "#Get a specific row\n",
    "print(a[0,:])\n",
    "\n",
    "#Get a specific column\n",
    "print(a[:,2])"
   ]
  },
  {
   "cell_type": "code",
   "execution_count": 8,
   "metadata": {},
   "outputs": [
    {
     "name": "stdout",
     "output_type": "stream",
     "text": [
      "[2 4 6]\n",
      "[]\n",
      "[2 4]\n"
     ]
    }
   ],
   "source": [
    "#[startindex:endindex:stepssize]\n",
    "print(a[0,1:6:2])    \n",
    "print(a[0,1:6:-2])\n",
    "print(a[0,1:-1:2])"
   ]
  },
  {
   "cell_type": "code",
   "execution_count": 9,
   "metadata": {},
   "outputs": [
    {
     "name": "stdout",
     "output_type": "stream",
     "text": [
      "[[ 1  2  3  4  5  6]\n",
      " [ 8  9  1  2  3 20]]\n",
      "[[ 1  2  5  4  5  6]\n",
      " [ 8  9  5  2  3 20]]\n",
      "[[ 1  2  1  4  5  6]\n",
      " [ 8  9  3  2  3 20]]\n"
     ]
    }
   ],
   "source": [
    "#Assinging and Changing elements values\n",
    "a[1,5]=20\n",
    "print(a)\n",
    "\n",
    "\n",
    "#Changing entire column\n",
    "a[:,2]=5\n",
    "print(a)\n",
    "\n",
    "#Specified changes\n",
    "a[:,2]=[1,3]\n",
    "print(a)"
   ]
  },
  {
   "cell_type": "code",
   "execution_count": 10,
   "metadata": {},
   "outputs": [
    {
     "name": "stdout",
     "output_type": "stream",
     "text": [
      "[[[1 2]\n",
      "  [3 4]\n",
      "  [5 6]\n",
      "  [7 8]]]\n",
      "4\n",
      "[[3 4]]\n"
     ]
    }
   ],
   "source": [
    "#3-D Example\n",
    "b=np.array([[[1,2],[3,4],[5,6],[7,8]]])\n",
    "print(b)\n",
    "\n",
    "\n",
    "#Get Specified element\n",
    "print(b[0,1,1])\n",
    "\n",
    "#Get columns\n",
    "print(b[:,1,:])\n",
    "\n",
    "#Replace\n",
    "b[:,1,:]= [9,9]"
   ]
  },
  {
   "attachments": {},
   "cell_type": "markdown",
   "metadata": {},
   "source": [
    "## Initializing different types of Arrays"
   ]
  },
  {
   "cell_type": "code",
   "execution_count": 11,
   "metadata": {},
   "outputs": [
    {
     "data": {
      "text/plain": [
       "array([[[[0., 0.],\n",
       "         [0., 0.],\n",
       "         [0., 0.],\n",
       "         [0., 0.]],\n",
       "\n",
       "        [[0., 0.],\n",
       "         [0., 0.],\n",
       "         [0., 0.],\n",
       "         [0., 0.]],\n",
       "\n",
       "        [[0., 0.],\n",
       "         [0., 0.],\n",
       "         [0., 0.],\n",
       "         [0., 0.]]],\n",
       "\n",
       "\n",
       "       [[[0., 0.],\n",
       "         [0., 0.],\n",
       "         [0., 0.],\n",
       "         [0., 0.]],\n",
       "\n",
       "        [[0., 0.],\n",
       "         [0., 0.],\n",
       "         [0., 0.],\n",
       "         [0., 0.]],\n",
       "\n",
       "        [[0., 0.],\n",
       "         [0., 0.],\n",
       "         [0., 0.],\n",
       "         [0., 0.]]]])"
      ]
     },
     "execution_count": 11,
     "metadata": {},
     "output_type": "execute_result"
    }
   ],
   "source": [
    "#All Zeros Matrix\n",
    "np.zeros(5)\n",
    "np.zeros((2,3))\n",
    "np.zeros((2,3,4,2))"
   ]
  },
  {
   "cell_type": "code",
   "execution_count": 12,
   "metadata": {},
   "outputs": [
    {
     "data": {
      "text/plain": [
       "array([[[1, 1],\n",
       "        [1, 1]],\n",
       "\n",
       "       [[1, 1],\n",
       "        [1, 1]],\n",
       "\n",
       "       [[1, 1],\n",
       "        [1, 1]],\n",
       "\n",
       "       [[1, 1],\n",
       "        [1, 1]]])"
      ]
     },
     "execution_count": 12,
     "metadata": {},
     "output_type": "execute_result"
    }
   ],
   "source": [
    "#All Ones Matrix\n",
    "np.ones((4,2,2),dtype='int32')\n"
   ]
  },
  {
   "cell_type": "code",
   "execution_count": 13,
   "metadata": {},
   "outputs": [
    {
     "data": {
      "text/plain": [
       "array([[99., 99.],\n",
       "       [99., 99.]], dtype=float32)"
      ]
     },
     "execution_count": 13,
     "metadata": {},
     "output_type": "execute_result"
    }
   ],
   "source": [
    "#Any other number\n",
    "np.full((2,2), 99, dtype='float32')"
   ]
  },
  {
   "cell_type": "markdown",
   "metadata": {},
   "source": []
  },
  {
   "cell_type": "code",
   "execution_count": 14,
   "metadata": {},
   "outputs": [
    {
     "data": {
      "text/plain": [
       "array([[4, 4, 4, 4, 4, 4],\n",
       "       [4, 4, 4, 4, 4, 4]])"
      ]
     },
     "execution_count": 14,
     "metadata": {},
     "output_type": "execute_result"
    }
   ],
   "source": [
    "#Any other number full_like\n",
    "np.full_like(a,4)"
   ]
  },
  {
   "cell_type": "code",
   "execution_count": 15,
   "metadata": {},
   "outputs": [
    {
     "data": {
      "text/plain": [
       "array([[0.31837985, 0.38601986, 0.43621765, 0.94281157, 0.93611736,\n",
       "        0.21421073],\n",
       "       [0.71475274, 0.68614163, 0.68977047, 0.86914504, 0.49878017,\n",
       "        0.44232387]])"
      ]
     },
     "execution_count": 15,
     "metadata": {},
     "output_type": "execute_result"
    }
   ],
   "source": [
    "# Random numbers\n",
    "np.random.rand(4,2)\n",
    "\n",
    "#If want to pass shape\n",
    "np.random.random_sample(a.shape)"
   ]
  },
  {
   "attachments": {},
   "cell_type": "markdown",
   "metadata": {},
   "source": [
    "The *randint()* function takes two parameters: low and high. \n",
    "These parameters specify the range of integers that can be generated. \n",
    "In the example you provided, only high parameter is specified as 7, which means that the function will generate a random integer between 0 and 6 inclusive. \n",
    "The number 7 is excluded from the range because the function generates integers up to, but not including, the value of high."
   ]
  },
  {
   "cell_type": "code",
   "execution_count": 16,
   "metadata": {},
   "outputs": [
    {
     "data": {
      "text/plain": [
       "5"
      ]
     },
     "execution_count": 16,
     "metadata": {},
     "output_type": "execute_result"
    }
   ],
   "source": [
    "#Random Integer Values\n",
    "\n",
    "np.random.randint(7)    \n"
   ]
  },
  {
   "attachments": {},
   "cell_type": "markdown",
   "metadata": {},
   "source": [
    "*randint(7, size=(3, 3))* is a function that generates random integers between 0 and 6 (inclusive) and arranges them into a 3x3 array. The first argument (7) specifies the upper bound (exclusive) for the random integers, and the second argument (size=(3, 3)) specifies the shape of the array."
   ]
  },
  {
   "cell_type": "code",
   "execution_count": 25,
   "metadata": {},
   "outputs": [
    {
     "data": {
      "text/plain": [
       "array([[ 2,  0,  0],\n",
       "       [ 3, -1,  2]])"
      ]
     },
     "execution_count": 25,
     "metadata": {},
     "output_type": "execute_result"
    }
   ],
   "source": [
    "np.random.randint(1,7,size=(3,3))  #1-lower limit #7-higher limit\n",
    "np.random.randint(-3,5,size=(2,3))"
   ]
  },
  {
   "attachments": {},
   "cell_type": "markdown",
   "metadata": {},
   "source": [
    "#"
   ]
  },
  {
   "cell_type": "code",
   "execution_count": 26,
   "metadata": {},
   "outputs": [
    {
     "data": {
      "text/plain": [
       "array([[1., 0., 0., 0., 0.],\n",
       "       [0., 1., 0., 0., 0.],\n",
       "       [0., 0., 1., 0., 0.],\n",
       "       [0., 0., 0., 1., 0.],\n",
       "       [0., 0., 0., 0., 1.]])"
      ]
     },
     "execution_count": 26,
     "metadata": {},
     "output_type": "execute_result"
    }
   ],
   "source": [
    "#The Identity Matrix\n",
    "np.identity(5)"
   ]
  },
  {
   "cell_type": "code",
   "execution_count": 29,
   "metadata": {},
   "outputs": [
    {
     "name": "stdout",
     "output_type": "stream",
     "text": [
      "[1 1 1 2 2 2 3 3 3]\n"
     ]
    }
   ],
   "source": [
    "#Repeat Array elements\n",
    "arr=np.array([1,2,3])\n",
    "r1=np.repeat(arr,3)\n",
    "print(r1)"
   ]
  },
  {
   "cell_type": "code",
   "execution_count": 32,
   "metadata": {},
   "outputs": [
    {
     "name": "stdout",
     "output_type": "stream",
     "text": [
      "[[1 2 3]\n",
      " [1 2 3]\n",
      " [1 2 3]\n",
      " [4 5 6]\n",
      " [4 5 6]\n",
      " [4 5 6]]\n"
     ]
    }
   ],
   "source": [
    "#Repeating 2D Array/Vector\n",
    "arr=np.array([[1,2,3],[4,5,6]])\n",
    "r1=np.repeat(arr,3,axis=0)\n",
    "print(r1)"
   ]
  },
  {
   "cell_type": "code",
   "execution_count": 36,
   "metadata": {},
   "outputs": [
    {
     "name": "stdout",
     "output_type": "stream",
     "text": [
      "[[1. 1. 1. 1. 1.]\n",
      " [1. 0. 0. 0. 1.]\n",
      " [1. 0. 9. 0. 1.]\n",
      " [1. 0. 0. 0. 1.]\n",
      " [1. 1. 1. 1. 1.]]\n"
     ]
    }
   ],
   "source": [
    "output = np.ones([5,5])\n",
    "z=np.zeros((3,3))\n",
    "z[1,1]=9\n",
    "output[1:4,1:4]=z    #[1:-1,1:-1]\n",
    "print(output)"
   ]
  },
  {
   "cell_type": "code",
   "execution_count": 42,
   "metadata": {},
   "outputs": [
    {
     "name": "stdout",
     "output_type": "stream",
     "text": [
      "[100   2   3]\n"
     ]
    }
   ],
   "source": [
    "a=np.array([1,2,3])\n",
    "b=a                       #We just told be do whatever b does we didn't copied it\n",
    "b[0]=100\n",
    "print(a)\n",
    "\n",
    "#Now a will also have 100 at it's 0th index\n",
    "#To Overcome this"
   ]
  },
  {
   "cell_type": "code",
   "execution_count": 43,
   "metadata": {},
   "outputs": [
    {
     "name": "stdout",
     "output_type": "stream",
     "text": [
      "[1 2 3]\n"
     ]
    }
   ],
   "source": [
    "#copy function\n",
    "a=np.array([1,2,3])\n",
    "b=a.copy()                   \n",
    "b[0]=100\n",
    "print(a)"
   ]
  },
  {
   "attachments": {},
   "cell_type": "markdown",
   "metadata": {},
   "source": [
    "### Mathematics "
   ]
  },
  {
   "cell_type": "code",
   "execution_count": 44,
   "metadata": {},
   "outputs": [
    {
     "name": "stdout",
     "output_type": "stream",
     "text": [
      "[1 2 3 4]\n"
     ]
    }
   ],
   "source": [
    "a=np.array([1,2,3,4])\n",
    "print(a)"
   ]
  },
  {
   "cell_type": "code",
   "execution_count": 52,
   "metadata": {},
   "outputs": [
    {
     "name": "stdout",
     "output_type": "stream",
     "text": [
      "[ 7  8  9 10]\n"
     ]
    }
   ],
   "source": [
    "#Element wise a+k/a-k\n",
    "a+2  #Addition\n",
    "a-3  #Subtraction\n",
    "a*2   #Multiplication\n",
    "a/2   #Division\n",
    "a**2   #Power\n",
    "\n",
    "\n",
    "a+=2\n",
    "print(a)"
   ]
  },
  {
   "cell_type": "code",
   "execution_count": 51,
   "metadata": {},
   "outputs": [
    {
     "data": {
      "text/plain": [
       "array([6, 6, 8, 8])"
      ]
     },
     "execution_count": 51,
     "metadata": {},
     "output_type": "execute_result"
    }
   ],
   "source": [
    "b=np.array([1,0,1,0])\n",
    "a+b"
   ]
  },
  {
   "cell_type": "code",
   "execution_count": 53,
   "metadata": {},
   "outputs": [
    {
     "data": {
      "text/plain": [
       "array([ 0.6569866 ,  0.98935825,  0.41211849, -0.54402111])"
      ]
     },
     "execution_count": 53,
     "metadata": {},
     "output_type": "execute_result"
    }
   ],
   "source": [
    "#Take the sin\n",
    "np.sin(a)"
   ]
  },
  {
   "attachments": {},
   "cell_type": "markdown",
   "metadata": {},
   "source": [
    "## Linear Algebra"
   ]
  },
  {
   "cell_type": "code",
   "execution_count": 56,
   "metadata": {},
   "outputs": [
    {
     "data": {
      "text/plain": [
       "array([[6., 6.],\n",
       "       [6., 6.]])"
      ]
     },
     "execution_count": 56,
     "metadata": {},
     "output_type": "execute_result"
    }
   ],
   "source": [
    "a=np.ones((2,3))\n",
    "b=np.full((3,2),2)\n",
    "#3 columns of a is equal to 3 rows of b\n",
    "#Matrix Multiplication\n",
    "np.matmul(a,b)"
   ]
  },
  {
   "cell_type": "code",
   "execution_count": 57,
   "metadata": {},
   "outputs": [
    {
     "data": {
      "text/plain": [
       "1.0"
      ]
     },
     "execution_count": 57,
     "metadata": {},
     "output_type": "execute_result"
    }
   ],
   "source": [
    "#Find the determinant\n",
    "c=np.identity(3)\n",
    "np.linalg.det(c)\n",
    "#An Identity Matrix has determinant of 1"
   ]
  },
  {
   "attachments": {},
   "cell_type": "markdown",
   "metadata": {},
   "source": [
    "#### Statistics"
   ]
  },
  {
   "cell_type": "code",
   "execution_count": 58,
   "metadata": {},
   "outputs": [
    {
     "data": {
      "text/plain": [
       "array([[1, 2, 3, 4],\n",
       "       [5, 6, 7, 8]])"
      ]
     },
     "execution_count": 58,
     "metadata": {},
     "output_type": "execute_result"
    }
   ],
   "source": [
    "stats= np.array([[1,2,3,4],[5,6,7,8]])\n",
    "stats"
   ]
  },
  {
   "cell_type": "code",
   "execution_count": 61,
   "metadata": {},
   "outputs": [
    {
     "data": {
      "text/plain": [
       "array([1, 2, 3, 4])"
      ]
     },
     "execution_count": 61,
     "metadata": {},
     "output_type": "execute_result"
    }
   ],
   "source": [
    "#Finding Min & Max\n",
    "np.min(stats)\n",
    "np.max(stats)\n",
    "#Finding min/max along any axis\n",
    "np.min(stats,axis=1)\n",
    "np.min(stats,axis=0)"
   ]
  },
  {
   "cell_type": "code",
   "execution_count": 62,
   "metadata": {},
   "outputs": [
    {
     "data": {
      "text/plain": [
       "36"
      ]
     },
     "execution_count": 62,
     "metadata": {},
     "output_type": "execute_result"
    }
   ],
   "source": [
    "#Finding Sum all of ele in matrix\n",
    "np.sum(stats)"
   ]
  },
  {
   "attachments": {},
   "cell_type": "markdown",
   "metadata": {},
   "source": [
    "#### Reorganizing Arrays"
   ]
  },
  {
   "cell_type": "code",
   "execution_count": 66,
   "metadata": {},
   "outputs": [
    {
     "name": "stdout",
     "output_type": "stream",
     "text": [
      "(2, 4)\n"
     ]
    }
   ],
   "source": [
    "before=np.array([[1,2,3,4],[5,6,7,8]])\n",
    "print(before.shape)"
   ]
  },
  {
   "cell_type": "code",
   "execution_count": 69,
   "metadata": {},
   "outputs": [
    {
     "name": "stdout",
     "output_type": "stream",
     "text": [
      "[[1]\n",
      " [2]\n",
      " [3]\n",
      " [4]\n",
      " [5]\n",
      " [6]\n",
      " [7]\n",
      " [8]]\n"
     ]
    }
   ],
   "source": [
    "#We want to make this before array of 2,4 shape as 8,1\n",
    "#We get errors when values dont fit in vs the original shape\n",
    "after= before.reshape((8,1))\n",
    "print(after)"
   ]
  },
  {
   "cell_type": "code",
   "execution_count": 74,
   "metadata": {},
   "outputs": [
    {
     "data": {
      "text/plain": [
       "array([[1, 2, 3, 4],\n",
       "       [5, 6, 7, 8],\n",
       "       [5, 6, 7, 8],\n",
       "       [1, 2, 3, 4]])"
      ]
     },
     "execution_count": 74,
     "metadata": {},
     "output_type": "execute_result"
    }
   ],
   "source": [
    "#Vertically stacking vectors/matrixs\n",
    "v1=np.array([1,2,3,4])\n",
    "v2=np.array([5,6,7,8])\n",
    "np.vstack([v1,v2,v2,v1])"
   ]
  },
  {
   "cell_type": "code",
   "execution_count": 75,
   "metadata": {},
   "outputs": [
    {
     "data": {
      "text/plain": [
       "array([1, 2, 3, 4, 5, 6, 7, 8, 5, 6, 7, 8, 1, 2, 3, 4])"
      ]
     },
     "execution_count": 75,
     "metadata": {},
     "output_type": "execute_result"
    }
   ],
   "source": [
    "#Horizontal stacking vectors/matrixs\n",
    "v1=np.array([1,2,3,4])\n",
    "v2=np.array([5,6,7,8])\n",
    "np.hstack([v1,v2,v2,v1])"
   ]
  },
  {
   "attachments": {},
   "cell_type": "markdown",
   "metadata": {},
   "source": [
    "#### Files"
   ]
  },
  {
   "cell_type": "code",
   "execution_count": null,
   "metadata": {},
   "outputs": [],
   "source": [
    "#Load Data from Files\n",
    "filedata= np.genfromtxt('data.txt',delimiter=',')\n",
    "#delimiter is the sperator used in file(data.txt)\n",
    "#Data will be printed in float type hence,\n",
    "#genfromtxt will handle alll the new lines of files\n",
    "\n",
    "filedata.astype('int32')\n",
    "filedata"
   ]
  },
  {
   "attachments": {},
   "cell_type": "markdown",
   "metadata": {},
   "source": [
    "#### Boolean Masking & Advanced Indexing"
   ]
  },
  {
   "cell_type": "code",
   "execution_count": null,
   "metadata": {},
   "outputs": [],
   "source": [
    "filedata > 50       #gives true/false depending on the values of file data\n",
    "filedata>=50\n",
    "filedata[filedata>50]   #will only give you values that are greater than 50\n"
   ]
  },
  {
   "cell_type": "code",
   "execution_count": 76,
   "metadata": {},
   "outputs": [
    {
     "data": {
      "text/plain": [
       "array([2, 3, 4])"
      ]
     },
     "execution_count": 76,
     "metadata": {},
     "output_type": "execute_result"
    }
   ],
   "source": [
    "#You can index with a list in Numpy\n",
    "a=np.array([1,2,3,4,56,6,78,8])\n",
    "a[[1,2,3]]"
   ]
  },
  {
   "cell_type": "code",
   "execution_count": null,
   "metadata": {},
   "outputs": [],
   "source": [
    "#Checking for any value >50 in columns\n",
    "np.any(filedata>50, axis=0)\n",
    "np.all(filedata>50,axis=0)"
   ]
  },
  {
   "cell_type": "code",
   "execution_count": null,
   "metadata": {},
   "outputs": [],
   "source": [
    "((filedata>50) & (filedata<100))\n",
    "(~((filedata>50)) & (filedata<100))"
   ]
  },
  {
   "attachments": {},
   "cell_type": "markdown",
   "metadata": {},
   "source": [
    "1 2 3 4 5\n",
    "6 7 8 9 10\n",
    "11 12 13 14 15\n",
    "16 17 18 19 20\n",
    "21 22 23 24 25\n",
    "26 27 28 29 30\n",
    "#Consider this array"
   ]
  },
  {
   "cell_type": "code",
   "execution_count": null,
   "metadata": {},
   "outputs": [],
   "source": [
    "#Acessing 11 12 16 17\n",
    "a[2:4,0:2]\n",
    "\n",
    "#Acessing 2,8,14,20\n",
    "a[[0,1,2,3],[1,2,3,4]]\n",
    "\n",
    "#Acessing 4,5,24,25,29,30\n",
    "a[[0,4,5],[3:]] #3 onwards"
   ]
  }
 ],
 "metadata": {
  "kernelspec": {
   "display_name": "Python 3",
   "language": "python",
   "name": "python3"
  },
  "language_info": {
   "codemirror_mode": {
    "name": "ipython",
    "version": 3
   },
   "file_extension": ".py",
   "mimetype": "text/x-python",
   "name": "python",
   "nbconvert_exporter": "python",
   "pygments_lexer": "ipython3",
   "version": "3.11.0"
  },
  "orig_nbformat": 4
 },
 "nbformat": 4,
 "nbformat_minor": 2
}
